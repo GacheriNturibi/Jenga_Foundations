{
 "cells": [
  {
   "cell_type": "markdown",
   "id": "c1734263",
   "metadata": {},
   "source": [
    "Pattern Data Mining"
   ]
  },
  {
   "cell_type": "code",
   "execution_count": 89,
   "id": "de5888b4",
   "metadata": {},
   "outputs": [],
   "source": [
    "import pandas as pd\n",
    "import matplotlib.pyplot as plt\n",
    "import numpy as np"
   ]
  },
  {
   "cell_type": "code",
   "execution_count": 16,
   "id": "87994c0b",
   "metadata": {},
   "outputs": [],
   "source": [
    "df = pd.read_csv('travel_data.csv')"
   ]
  },
  {
   "cell_type": "code",
   "execution_count": 17,
   "id": "1113d490",
   "metadata": {},
   "outputs": [
    {
     "name": "stdout",
     "output_type": "stream",
     "text": [
      "Index(['phone_no', 'travel_company', 'full_name', 'trip_no', 'ticket_no',\n",
      "       'travel_time', 'travel_type', 'office_location', 'departure', 'arrival',\n",
      "       'seat_state', 'booking_time', 'seat_no', 'ticket_price',\n",
      "       'payment_method', 'type_of_trave', 'total_tickets'],\n",
      "      dtype='object')\n"
     ]
    }
   ],
   "source": [
    "print(df.columns)"
   ]
  },
  {
   "cell_type": "code",
   "execution_count": 5,
   "id": "425d91f8",
   "metadata": {},
   "outputs": [
    {
     "name": "stdout",
     "output_type": "stream",
     "text": [
      "   phone_no  travel_company         full_name  trip_no  ticket_no  \\\n",
      "0   1871516             532       �MER TEKTA?    75455   11685431   \n",
      "1   1847377             476  TU?RUL HAFIZO?LU   417832   15055943   \n",
      "2   1845989             140      H�SEYIN KAYA    95236   11500972   \n",
      "3   1853372             693      ERS?N ATMACA    26093   10590360   \n",
      "\n",
      "        travel_time  travel_type office_location   departure    arrival  \\\n",
      "0  01/01/2012 00:00            0      D?YARBAKIR  D?YARBAKIR     MERS?N   \n",
      "1  01/01/2012 00:00            0          SAMSUN      SAMSUN    KAYSER?   \n",
      "2  01/01/2012 01:00            0        ?STANBUL    ?STANBUL  ESK??EH?R   \n",
      "3  01/01/2012 01:00            0           N??DE       N??DE     ANKARA   \n",
      "\n",
      "   seat_state booking_time  seat_no  ticket_price  payment_method  \\\n",
      "0           3      30:10.0       37          40.0               1   \n",
      "1           3      16:50.0       27          45.0               1   \n",
      "2           3      54:00.0        3          35.0               1   \n",
      "3           3      30:02.0       22          25.0               1   \n",
      "\n",
      "  type_of_trave  total_tickets  \n",
      "0        MOLALI             64  \n",
      "1        MOLALI             95  \n",
      "2      TAR?FEL?             26  \n",
      "3        MOLALI             39  \n"
     ]
    }
   ],
   "source": [
    "print(df.iloc[0:4])"
   ]
  },
  {
   "cell_type": "code",
   "execution_count": 72,
   "id": "c1b9552e",
   "metadata": {},
   "outputs": [
    {
     "data": {
      "text/html": [
       "<div>\n",
       "<style scoped>\n",
       "    .dataframe tbody tr th:only-of-type {\n",
       "        vertical-align: middle;\n",
       "    }\n",
       "\n",
       "    .dataframe tbody tr th {\n",
       "        vertical-align: top;\n",
       "    }\n",
       "\n",
       "    .dataframe thead th {\n",
       "        text-align: right;\n",
       "    }\n",
       "</style>\n",
       "<table border=\"1\" class=\"dataframe\">\n",
       "  <thead>\n",
       "    <tr style=\"text-align: right;\">\n",
       "      <th></th>\n",
       "      <th>phone_no</th>\n",
       "      <th>travel_company</th>\n",
       "      <th>trip_no</th>\n",
       "      <th>ticket_no</th>\n",
       "      <th>travel_type</th>\n",
       "      <th>seat_state</th>\n",
       "      <th>seat_no</th>\n",
       "      <th>ticket_price</th>\n",
       "      <th>payment_method</th>\n",
       "      <th>total_tickets</th>\n",
       "      <th>count</th>\n",
       "    </tr>\n",
       "  </thead>\n",
       "  <tbody>\n",
       "    <tr>\n",
       "      <th>count</th>\n",
       "      <td>1.000000e+05</td>\n",
       "      <td>100000.000000</td>\n",
       "      <td>1.000000e+05</td>\n",
       "      <td>1.000000e+05</td>\n",
       "      <td>100000.000000</td>\n",
       "      <td>100000.000000</td>\n",
       "      <td>100000.000000</td>\n",
       "      <td>100000.000000</td>\n",
       "      <td>100000.000000</td>\n",
       "      <td>100000.000000</td>\n",
       "      <td>100000.0</td>\n",
       "    </tr>\n",
       "    <tr>\n",
       "      <th>mean</th>\n",
       "      <td>1.857025e+06</td>\n",
       "      <td>1248.205490</td>\n",
       "      <td>1.725866e+05</td>\n",
       "      <td>1.127590e+07</td>\n",
       "      <td>0.027310</td>\n",
       "      <td>2.469120</td>\n",
       "      <td>20.453490</td>\n",
       "      <td>49.440086</td>\n",
       "      <td>0.829860</td>\n",
       "      <td>45.058810</td>\n",
       "      <td>1.0</td>\n",
       "    </tr>\n",
       "    <tr>\n",
       "      <th>std</th>\n",
       "      <td>1.298754e+04</td>\n",
       "      <td>11889.953033</td>\n",
       "      <td>2.277385e+05</td>\n",
       "      <td>8.619154e+06</td>\n",
       "      <td>0.618715</td>\n",
       "      <td>0.883139</td>\n",
       "      <td>13.210527</td>\n",
       "      <td>23.063687</td>\n",
       "      <td>0.382327</td>\n",
       "      <td>17.430571</td>\n",
       "      <td>0.0</td>\n",
       "    </tr>\n",
       "    <tr>\n",
       "      <th>min</th>\n",
       "      <td>1.839010e+06</td>\n",
       "      <td>14.000000</td>\n",
       "      <td>0.000000e+00</td>\n",
       "      <td>0.000000e+00</td>\n",
       "      <td>0.000000</td>\n",
       "      <td>1.000000</td>\n",
       "      <td>1.000000</td>\n",
       "      <td>0.000000</td>\n",
       "      <td>0.000000</td>\n",
       "      <td>1.000000</td>\n",
       "      <td>1.0</td>\n",
       "    </tr>\n",
       "    <tr>\n",
       "      <th>25%</th>\n",
       "      <td>1.847156e+06</td>\n",
       "      <td>168.000000</td>\n",
       "      <td>3.490350e+04</td>\n",
       "      <td>2.086196e+06</td>\n",
       "      <td>0.000000</td>\n",
       "      <td>1.000000</td>\n",
       "      <td>9.000000</td>\n",
       "      <td>30.000000</td>\n",
       "      <td>1.000000</td>\n",
       "      <td>34.000000</td>\n",
       "      <td>1.0</td>\n",
       "    </tr>\n",
       "    <tr>\n",
       "      <th>50%</th>\n",
       "      <td>1.853256e+06</td>\n",
       "      <td>434.000000</td>\n",
       "      <td>8.883550e+04</td>\n",
       "      <td>1.156559e+07</td>\n",
       "      <td>0.000000</td>\n",
       "      <td>3.000000</td>\n",
       "      <td>19.000000</td>\n",
       "      <td>50.000000</td>\n",
       "      <td>1.000000</td>\n",
       "      <td>45.000000</td>\n",
       "      <td>1.0</td>\n",
       "    </tr>\n",
       "    <tr>\n",
       "      <th>75%</th>\n",
       "      <td>1.864801e+06</td>\n",
       "      <td>686.000000</td>\n",
       "      <td>1.959520e+05</td>\n",
       "      <td>1.368801e+07</td>\n",
       "      <td>0.000000</td>\n",
       "      <td>3.000000</td>\n",
       "      <td>31.000000</td>\n",
       "      <td>65.000000</td>\n",
       "      <td>1.000000</td>\n",
       "      <td>54.000000</td>\n",
       "      <td>1.0</td>\n",
       "    </tr>\n",
       "    <tr>\n",
       "      <th>max</th>\n",
       "      <td>1.897167e+06</td>\n",
       "      <td>211400.000000</td>\n",
       "      <td>1.477461e+06</td>\n",
       "      <td>3.756544e+07</td>\n",
       "      <td>35.000000</td>\n",
       "      <td>3.000000</td>\n",
       "      <td>78.000000</td>\n",
       "      <td>220.500000</td>\n",
       "      <td>3.000000</td>\n",
       "      <td>178.000000</td>\n",
       "      <td>1.0</td>\n",
       "    </tr>\n",
       "  </tbody>\n",
       "</table>\n",
       "</div>"
      ],
      "text/plain": [
       "           phone_no  travel_company       trip_no     ticket_no  \\\n",
       "count  1.000000e+05   100000.000000  1.000000e+05  1.000000e+05   \n",
       "mean   1.857025e+06     1248.205490  1.725866e+05  1.127590e+07   \n",
       "std    1.298754e+04    11889.953033  2.277385e+05  8.619154e+06   \n",
       "min    1.839010e+06       14.000000  0.000000e+00  0.000000e+00   \n",
       "25%    1.847156e+06      168.000000  3.490350e+04  2.086196e+06   \n",
       "50%    1.853256e+06      434.000000  8.883550e+04  1.156559e+07   \n",
       "75%    1.864801e+06      686.000000  1.959520e+05  1.368801e+07   \n",
       "max    1.897167e+06   211400.000000  1.477461e+06  3.756544e+07   \n",
       "\n",
       "         travel_type     seat_state        seat_no   ticket_price  \\\n",
       "count  100000.000000  100000.000000  100000.000000  100000.000000   \n",
       "mean        0.027310       2.469120      20.453490      49.440086   \n",
       "std         0.618715       0.883139      13.210527      23.063687   \n",
       "min         0.000000       1.000000       1.000000       0.000000   \n",
       "25%         0.000000       1.000000       9.000000      30.000000   \n",
       "50%         0.000000       3.000000      19.000000      50.000000   \n",
       "75%         0.000000       3.000000      31.000000      65.000000   \n",
       "max        35.000000       3.000000      78.000000     220.500000   \n",
       "\n",
       "       payment_method  total_tickets     count  \n",
       "count   100000.000000  100000.000000  100000.0  \n",
       "mean         0.829860      45.058810       1.0  \n",
       "std          0.382327      17.430571       0.0  \n",
       "min          0.000000       1.000000       1.0  \n",
       "25%          1.000000      34.000000       1.0  \n",
       "50%          1.000000      45.000000       1.0  \n",
       "75%          1.000000      54.000000       1.0  \n",
       "max          3.000000     178.000000       1.0  "
      ]
     },
     "execution_count": 72,
     "metadata": {},
     "output_type": "execute_result"
    }
   ],
   "source": [
    "df.describe()"
   ]
  },
  {
   "cell_type": "code",
   "execution_count": 20,
   "id": "464e1cc7",
   "metadata": {},
   "outputs": [
    {
     "data": {
      "text/plain": [
       "<bound method DataFrame.info of        phone_no  travel_company          full_name  trip_no  ticket_no  \\\n",
       "0       1871516             532        �MER TEKTA?    75455   11685431   \n",
       "1       1847377             476   TU?RUL HAFIZO?LU   417832   15055943   \n",
       "2       1845989             140       H�SEYIN KAYA    95236   11500972   \n",
       "3       1853372             693       ERS?N ATMACA    26093   10590360   \n",
       "4       1846628             140      ERCAN DEMIRCI    95056   11498257   \n",
       "...         ...             ...                ...      ...        ...   \n",
       "99995   1871203             987        EK?N S�NMEZ    29484     684315   \n",
       "99996   1853278             434       VURAL KESK?N   227036   11915976   \n",
       "99997   1859522             196         �ZCAN �ZER    18657     277884   \n",
       "99998   1847781            1463  F?KRETKI?LALIOGLU    13728     144871   \n",
       "99999   1847781            1463  F?KRETKI?LALIOGLU    13728     144872   \n",
       "\n",
       "            travel_time  travel_type office_location   departure  \\\n",
       "0      01/01/2012 00:00            0      D?YARBAKIR  D?YARBAKIR   \n",
       "1      01/01/2012 00:00            0          SAMSUN      SAMSUN   \n",
       "2      01/01/2012 01:00            0        ?STANBUL    ?STANBUL   \n",
       "3      01/01/2012 01:00            0           N??DE       N??DE   \n",
       "4      01/01/2012 02:45            0         Boz�y�k     Boz�y�k   \n",
       "...                 ...          ...             ...         ...   \n",
       "99995  04/01/2015 22:00            0           KONYA       KONYA   \n",
       "99996  04/01/2015 22:00            0        OSMAN?YE    OSMAN?YE   \n",
       "99997  04/01/2015 23:15            1         Nazilli     Nazilli   \n",
       "99998  04/01/2015 23:45            0           Gebze       Gebze   \n",
       "99999  04/01/2015 23:45            0           Gebze       Gebze   \n",
       "\n",
       "             arrival  seat_state booking_time  seat_no  ticket_price  \\\n",
       "0             MERS?N           3      30:10.0       37          40.0   \n",
       "1            KAYSER?           3      16:50.0       27          45.0   \n",
       "2          ESK??EH?R           3      54:00.0        3          35.0   \n",
       "3             ANKARA           3      30:02.0       22          25.0   \n",
       "4      ?st.Sa.G�k�en           3      43:30.0       16          33.0   \n",
       "...              ...         ...          ...      ...           ...   \n",
       "99995        Bulan?k           3      12:14.0        4          75.0   \n",
       "99996      GAZ?ANTEP           3      35:55.0       15          15.0   \n",
       "99997      �ANAKKALE           3      09:39.0       15          42.0   \n",
       "99998       Sungurlu           3      58:48.0        1          60.0   \n",
       "99999       Sungurlu           3      58:48.0        2          60.0   \n",
       "\n",
       "       payment_method type_of_trave  total_tickets  \n",
       "0                   1        MOLALI             64  \n",
       "1                   1        MOLALI             95  \n",
       "2                   1      TAR?FEL?             26  \n",
       "3                   1        MOLALI             39  \n",
       "4                   1      TAR?FEL?             29  \n",
       "...               ...           ...            ...  \n",
       "99995               1        MOLALI             19  \n",
       "99996               1        MOLALI             43  \n",
       "99997               1        MOLALI             27  \n",
       "99998               1        MOLALI             21  \n",
       "99999               1        MOLALI             21  \n",
       "\n",
       "[100000 rows x 17 columns]>"
      ]
     },
     "execution_count": 20,
     "metadata": {},
     "output_type": "execute_result"
    }
   ],
   "source": [
    "df.info"
   ]
  },
  {
   "cell_type": "markdown",
   "id": "176fdb45",
   "metadata": {},
   "source": [
    "**Trips that are purchased most frequently**"
   ]
  },
  {
   "cell_type": "code",
   "execution_count": 27,
   "id": "5e0beb17",
   "metadata": {},
   "outputs": [],
   "source": [
    "trip_no = df.iloc[:,3]"
   ]
  },
  {
   "cell_type": "code",
   "execution_count": 63,
   "id": "223f0081",
   "metadata": {},
   "outputs": [
    {
     "data": {
      "text/plain": [
       "array([ 75455, 417832,  95236, ..., 227036,  18657,  13728], dtype=int64)"
      ]
     },
     "execution_count": 63,
     "metadata": {},
     "output_type": "execute_result"
    }
   ],
   "source": [
    "pd.unique(trip_no)"
   ]
  },
  {
   "cell_type": "code",
   "execution_count": 55,
   "id": "ecd934ab",
   "metadata": {
    "scrolled": true
   },
   "outputs": [
    {
     "data": {
      "text/plain": [
       "100000"
      ]
     },
     "execution_count": 55,
     "metadata": {},
     "output_type": "execute_result"
    }
   ],
   "source": [
    "trip_no.count()"
   ]
  },
  {
   "cell_type": "code",
   "execution_count": 65,
   "id": "6de4fae8",
   "metadata": {},
   "outputs": [
    {
     "data": {
      "text/plain": [
       "6164      14\n",
       "15793     14\n",
       "25086     13\n",
       "28582     13\n",
       "9006      12\n",
       "          ..\n",
       "9822       1\n",
       "375853     1\n",
       "238638     1\n",
       "873520     1\n",
       "298614     1\n",
       "Name: trip_no, Length: 60436, dtype: int64"
      ]
     },
     "execution_count": 65,
     "metadata": {},
     "output_type": "execute_result"
    }
   ],
   "source": [
    "df['trip_no'].value_counts()"
   ]
  },
  {
   "cell_type": "markdown",
   "id": "4d97f572",
   "metadata": {},
   "source": [
    "The most purchased trips were trips **6164** and **15793** both purchased 14 times"
   ]
  },
  {
   "cell_type": "markdown",
   "id": "f30d5879",
   "metadata": {},
   "source": [
    "**Companies that are preferred most frequently**"
   ]
  },
  {
   "cell_type": "code",
   "execution_count": 66,
   "id": "d6b97ba1",
   "metadata": {},
   "outputs": [
    {
     "data": {
      "text/plain": [
       "105     10019\n",
       "476      5636\n",
       "175      3022\n",
       "1603     2802\n",
       "308      2751\n",
       "        ...  \n",
       "2002        1\n",
       "1813        1\n",
       "1883        1\n",
       "1379        1\n",
       "1330        1\n",
       "Name: travel_company, Length: 232, dtype: int64"
      ]
     },
     "execution_count": 66,
     "metadata": {},
     "output_type": "execute_result"
    }
   ],
   "source": [
    "df['travel_company'].value_counts()"
   ]
  },
  {
   "cell_type": "markdown",
   "id": "e316505f",
   "metadata": {},
   "source": [
    "The most preferred travel company is company **105**"
   ]
  },
  {
   "cell_type": "markdown",
   "id": "14b5e9ae",
   "metadata": {},
   "source": [
    "**Trips purchased most frequently** by men and women where 3 = man, 1 = woman"
   ]
  },
  {
   "cell_type": "code",
   "execution_count": 84,
   "id": "a468b505",
   "metadata": {},
   "outputs": [],
   "source": [
    "fr_trips = df.iloc[:,[3,10]]"
   ]
  },
  {
   "cell_type": "code",
   "execution_count": 87,
   "id": "4b8f818f",
   "metadata": {},
   "outputs": [
    {
     "name": "stdout",
     "output_type": "stream",
     "text": [
      "       trip_no  seat_state\n",
      "0        75455           3\n",
      "1       417832           3\n",
      "2        95236           3\n",
      "3        26093           3\n",
      "4        95056           3\n",
      "...        ...         ...\n",
      "99995    29484           3\n",
      "99996   227036           3\n",
      "99997    18657           3\n",
      "99998    13728           3\n",
      "99999    13728           3\n",
      "\n",
      "[100000 rows x 2 columns]\n"
     ]
    }
   ],
   "source": [
    "print(fr_trips)"
   ]
  },
  {
   "cell_type": "code",
   "execution_count": 101,
   "id": "a2caf062",
   "metadata": {},
   "outputs": [
    {
     "data": {
      "text/plain": [
       "trip_no  seat_state\n",
       "0        1             2\n",
       "         3             6\n",
       "3        3             1\n",
       "6        1             2\n",
       "         3             1\n",
       "                      ..\n",
       "1410216  3             2\n",
       "1410343  3             1\n",
       "1420493  1             2\n",
       "1422951  3             1\n",
       "1477461  3             1\n",
       "Name: count, Length: 63872, dtype: int64"
      ]
     },
     "execution_count": 101,
     "metadata": {},
     "output_type": "execute_result"
    }
   ],
   "source": [
    "df['count'] = 1\n",
    "\n",
    "\n",
    "df.groupby(['trip_no', 'seat_state']).count()['count']"
   ]
  },
  {
   "cell_type": "code",
   "execution_count": null,
   "id": "778f51a4",
   "metadata": {},
   "outputs": [],
   "source": []
  }
 ],
 "metadata": {
  "kernelspec": {
   "display_name": "Python 3",
   "language": "python",
   "name": "python3"
  },
  "language_info": {
   "codemirror_mode": {
    "name": "ipython",
    "version": 3
   },
   "file_extension": ".py",
   "mimetype": "text/x-python",
   "name": "python",
   "nbconvert_exporter": "python",
   "pygments_lexer": "ipython3",
   "version": "3.9.1"
  }
 },
 "nbformat": 4,
 "nbformat_minor": 5
}
