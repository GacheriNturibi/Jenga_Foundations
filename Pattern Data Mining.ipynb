{
 "cells": [
  {
   "cell_type": "markdown",
   "id": "c1734263",
   "metadata": {},
   "source": [
    "Pattern Data Mining"
   ]
  },
  {
   "cell_type": "code",
   "execution_count": 1,
   "id": "de5888b4",
   "metadata": {},
   "outputs": [],
   "source": [
    "import pandas as pd\n",
    "import matplotlib.pyplot as plt"
   ]
  },
  {
   "cell_type": "code",
   "execution_count": 3,
   "id": "87994c0b",
   "metadata": {},
   "outputs": [],
   "source": [
    "df = pd.read_csv('travel_data.csv')"
   ]
  },
  {
   "cell_type": "code",
   "execution_count": 4,
   "id": "1113d490",
   "metadata": {},
   "outputs": [
    {
     "name": "stdout",
     "output_type": "stream",
     "text": [
      "Index(['phone_no', 'travel_company', 'full_name', 'trip_no', 'ticket_no',\n",
      "       'travel_time', 'travel_type', 'office_location', 'departure', 'arrival',\n",
      "       'seat_state', 'booking_time', 'seat_no', 'ticket_price',\n",
      "       'payment_method', 'type_of_trave', 'total_tickets'],\n",
      "      dtype='object')\n"
     ]
    }
   ],
   "source": [
    "print(df.columns)"
   ]
  },
  {
   "cell_type": "code",
   "execution_count": 5,
   "id": "425d91f8",
   "metadata": {},
   "outputs": [
    {
     "name": "stdout",
     "output_type": "stream",
     "text": [
      "   phone_no  travel_company         full_name  trip_no  ticket_no  \\\n",
      "0   1871516             532       �MER TEKTA?    75455   11685431   \n",
      "1   1847377             476  TU?RUL HAFIZO?LU   417832   15055943   \n",
      "2   1845989             140      H�SEYIN KAYA    95236   11500972   \n",
      "3   1853372             693      ERS?N ATMACA    26093   10590360   \n",
      "\n",
      "        travel_time  travel_type office_location   departure    arrival  \\\n",
      "0  01/01/2012 00:00            0      D?YARBAKIR  D?YARBAKIR     MERS?N   \n",
      "1  01/01/2012 00:00            0          SAMSUN      SAMSUN    KAYSER?   \n",
      "2  01/01/2012 01:00            0        ?STANBUL    ?STANBUL  ESK??EH?R   \n",
      "3  01/01/2012 01:00            0           N??DE       N??DE     ANKARA   \n",
      "\n",
      "   seat_state booking_time  seat_no  ticket_price  payment_method  \\\n",
      "0           3      30:10.0       37          40.0               1   \n",
      "1           3      16:50.0       27          45.0               1   \n",
      "2           3      54:00.0        3          35.0               1   \n",
      "3           3      30:02.0       22          25.0               1   \n",
      "\n",
      "  type_of_trave  total_tickets  \n",
      "0        MOLALI             64  \n",
      "1        MOLALI             95  \n",
      "2      TAR?FEL?             26  \n",
      "3        MOLALI             39  \n"
     ]
    }
   ],
   "source": [
    "print(df.iloc[0:4])"
   ]
  },
  {
   "cell_type": "code",
   "execution_count": 6,
   "id": "c1b9552e",
   "metadata": {},
   "outputs": [
    {
     "ename": "NameError",
     "evalue": "name 'describe' is not defined",
     "output_type": "error",
     "traceback": [
      "\u001b[1;31m---------------------------------------------------------------------------\u001b[0m",
      "\u001b[1;31mNameError\u001b[0m                                 Traceback (most recent call last)",
      "\u001b[1;32m<ipython-input-6-4443b6ff7aca>\u001b[0m in \u001b[0;36m<module>\u001b[1;34m\u001b[0m\n\u001b[1;32m----> 1\u001b[1;33m \u001b[0mdescribe\u001b[0m\u001b[1;33m.\u001b[0m\u001b[0minfo\u001b[0m\u001b[1;33m\u001b[0m\u001b[1;33m\u001b[0m\u001b[0m\n\u001b[0m",
      "\u001b[1;31mNameError\u001b[0m: name 'describe' is not defined"
     ]
    }
   ],
   "source": [
    "describe.info"
   ]
  },
  {
   "cell_type": "code",
   "execution_count": null,
   "id": "464e1cc7",
   "metadata": {},
   "outputs": [],
   "source": []
  }
 ],
 "metadata": {
  "kernelspec": {
   "display_name": "Python 3",
   "language": "python",
   "name": "python3"
  },
  "language_info": {
   "codemirror_mode": {
    "name": "ipython",
    "version": 3
   },
   "file_extension": ".py",
   "mimetype": "text/x-python",
   "name": "python",
   "nbconvert_exporter": "python",
   "pygments_lexer": "ipython3",
   "version": "3.9.1"
  }
 },
 "nbformat": 4,
 "nbformat_minor": 5
}
